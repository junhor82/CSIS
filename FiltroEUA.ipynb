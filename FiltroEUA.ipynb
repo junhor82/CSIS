{
 "cells": [
  {
   "cell_type": "code",
   "execution_count": 14,
   "id": "2b4a66e3",
   "metadata": {},
   "outputs": [
    {
     "name": "stdout",
     "output_type": "stream",
     "text": [
      "1/3 Palavras relacionadas a EUA filtradas\n",
      "2/3 Retirado o ponto do segundo caractere\n",
      "3/3 Base de dados criada e filtrada desde 2007 até 2020\n"
     ]
    }
   ],
   "source": [
    "import csv\n",
    "import os\n",
    "#---------------------------------------------------------------------------------\n",
    "# 1 FILTRO ARQUIVO COM PALAVRAS FILTRADAS REFERENTES AO EUA\n",
    "#---------------------------------------------------------------------------------\n",
    "# Ler o arquivo ort.txt e obter as palavras a serem filtradas\n",
    "with open('ort.txt', 'r', encoding='utf-8') as file:\n",
    "    palavras_a_filtrar = set(word.strip() for line in file for word in line.split())\n",
    "\n",
    "# Lista de palavras a serem filtradas\n",
    "palavras_a_filtrar = {'U.S.', 'CIA', 'FBI', 'CISA', 'US ', 'NSA', 'NASA', 'American', 'United States',\n",
    "                      'Centers for Medicare and Medicaid Services', 'Senate leaders', 'Democratic candidates', \n",
    "                      'Democratic National Committee', 'Obama', 'Joint Chiefs of Staff', 'Office of Personnel Management', \n",
    "                      'IRS', 'DOD', 'Pentagon', 'White House', 'DHS', 'OPM', 'F-35', 'Deputy Secretary of Defense',\n",
    "                      'Atlanta', 'Baltimore', 'San Fracisco', 'Washington', 'Las Vegas',\n",
    "                      'Social Security',\n",
    "                      'SWIFT',\n",
    "                      'Microsoft security researchers', 'Starwood hotel', 'firm Exactis', 'MyFitnessPal', 'Uber',\n",
    "                     'firm Equifax', 'SEC', 'Twitter', 'Yahoo', 'AdultFriendFinder', 'Century Oncology', 'NOAA',\n",
    "                     'United Airlines', 'iCloud', 'Dairy Quenn', 'Community Health Systems', 'Alcoa', 'from Target',\n",
    "                     'New York Times', 'Wall Street', 'New York Stock Exchange', 'Citibank'\n",
    "                     'Oak Ridge National Laboratory'}  \n",
    "\n",
    "# Nome do arquivo de saída\n",
    "output_file_path = 'filtroEUA.txt'\n",
    "\n",
    "# Ler o arquivo ort.txt e gravar as linhas que contêm palavras do banco em filtro.txt\n",
    "with open('ort.txt', 'r', encoding='utf-8') as file, open(output_file_path, 'w', encoding='utf-8') as output_file:\n",
    "    for line in file:\n",
    "        if any(palavra in line for palavra in palavras_a_filtrar):\n",
    "            output_file.write(line)\n",
    "print(f\"1/3 Palavras relacionadas a EUA filtradas\")\n",
    "\n",
    "#2 Retira o ponto do segundo caractere\n",
    "#2.1 Nome do arquivo de entrada\n",
    "input_file_path = 'filtroEUA.txt'\n",
    "#2.2 Nome do arquivo de saída\n",
    "output_file_path = 'filtroEUA1.txt'\n",
    "#2.3 Ler o arquivo filtroEUA e corrigir as palavras\n",
    "with open(input_file_path, 'r', encoding='utf-8') as file, open(output_file_path, 'w', encoding='utf-8') as output_file:\n",
    "    for line in file:\n",
    "        # Dividir a linha em palavras\n",
    "        words = line.split()\n",
    "        # Verificar se há pelo menos duas palavras na linha\n",
    "        if len(words) >= 2:\n",
    "            # Verificar se a segunda palavra termina com um ponto\n",
    "            if words[1].endswith('.'):\n",
    "                # Remover o ponto da segunda palavra\n",
    "                words[1] = words[1][:-1]\n",
    "        # Escrever a linha corrigida no arquivo de saída\n",
    "        output_file.write(' '.join(words) + '\\n')\n",
    "print(f\"2/3 Retirado o ponto do segundo caractere\")            \n",
    "\n",
    "\n",
    "#3 CRIA BASE DE DADOS EM CSV\n",
    "# 2.2 Filtra desde o ano de 2007 até o ano de 2020\n",
    "with open('filtroEUA1.txt', 'r', encoding='utf8') as file_in:\n",
    "    with open('bdEUA.csv', 'w', newline='', encoding='utf8') as file_out:\n",
    "        # criando o objeto writer do módulo csv\n",
    "        writer = csv.writer(file_out)\n",
    "        writer.writerow(['ID', 'ano', 'mes', 'descrição'])\n",
    "        id_count = 1\n",
    "        for line in file_in:\n",
    "            linha = line.split()\n",
    "            if (linha[1]=='2020') or (linha[1]=='2019') or (linha[1]=='2018') or (linha[1]=='2017') or (linha[1]=='2016') or (linha[1]=='2015') or (linha[1]=='2014') or (linha[1]=='2013') or (linha[1]=='2012') or (linha[1]=='2011') or (linha[1]=='2010') or (linha[1]=='2009') or (linha[1]=='2008') or (linha[1]=='2007'):\n",
    "                ano = int(linha[1])\n",
    "                mes = linha[0]\n",
    "                descricao1 = linha[2:]\n",
    "                descricao = \" \".join(descricao1)\n",
    "                row = [id_count, ano, mes, descricao]\n",
    "                writer.writerow(row)\n",
    "                id_count += 1\n",
    "print(\"3/3 Base de dados criada e filtrada desde 2007 até 2020\")\n",
    "os.remove('filtroEUA.txt')\n",
    "os.remove('filtroEUA1.txt')\n"
   ]
  },
  {
   "cell_type": "code",
   "execution_count": null,
   "id": "9e66753c",
   "metadata": {},
   "outputs": [],
   "source": []
  }
 ],
 "metadata": {
  "kernelspec": {
   "display_name": "Python 3 (ipykernel)",
   "language": "python",
   "name": "python3"
  },
  "language_info": {
   "codemirror_mode": {
    "name": "ipython",
    "version": 3
   },
   "file_extension": ".py",
   "mimetype": "text/x-python",
   "name": "python",
   "nbconvert_exporter": "python",
   "pygments_lexer": "ipython3",
   "version": "3.11.5"
  }
 },
 "nbformat": 4,
 "nbformat_minor": 5
}
